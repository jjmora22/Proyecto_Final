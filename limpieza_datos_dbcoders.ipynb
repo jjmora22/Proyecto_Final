{
  "cells": [
    {
      "cell_type": "markdown",
      "metadata": {
        "id": "view-in-github",
        "colab_type": "text"
      },
      "source": [
        "<a href=\"https://colab.research.google.com/github/jjmora22/Proyecto_Final/blob/main/limpieza_datos_dbcoders.ipynb\" target=\"_parent\"><img src=\"https://colab.research.google.com/assets/colab-badge.svg\" alt=\"Open In Colab\"/></a>"
      ]
    },
    {
      "cell_type": "markdown",
      "metadata": {
        "id": "cNPXWkQeArMM"
      },
      "source": [
        "#**Limpieza de datos para el proyecto DBCoders**\n",
        "\n",
        "Se realizará una limpieza de los Datasets elegidos:\n",
        "- Databases including Global Competence variables were uploaded in October 2020 - Student questionnaire data files --> https://webfs.oecd.org/pisa2018/SAS_STU_QQQ.zip"
      ]
    },
    {
      "cell_type": "code",
      "execution_count": 2,
      "metadata": {
        "id": "7kTq6tUo-PFn",
        "colab": {
          "base_uri": "https://localhost:8080/"
        },
        "outputId": "0b05ca5d-7f58-4029-ad2f-d029fe8b973b"
      },
      "outputs": [
        {
          "output_type": "stream",
          "name": "stdout",
          "text": [
            "mkdir: cannot create directory ‘/content/dataset’: File exists\n",
            "/content/dataset\n"
          ]
        }
      ],
      "source": [
        "import os\n",
        "\n",
        "# Defino el directorio en el que voy a trabajar\n",
        "%mkdir /content/dataset\n",
        "%cd /content/dataset/\n",
        "\n",
        "WORK_DIR = os.getcwd()\n",
        "\n"
      ]
    },
    {
      "cell_type": "code",
      "source": [
        "! wget https://webfs.oecd.org/pisa2018/SAS_STU_QQQ.zip -O - | gsutil cp - //$WORK_DIR/data.zip"
      ],
      "metadata": {
        "id": "onNdSnQtn2xJ",
        "colab": {
          "base_uri": "https://localhost:8080/"
        },
        "outputId": "3189720f-a9e5-4ca8-9b13-937709c9005e"
      },
      "execution_count": 3,
      "outputs": [
        {
          "output_type": "stream",
          "name": "stdout",
          "text": [
            "--2023-04-03 14:50:54--  https://webfs.oecd.org/pisa2018/SAS_STU_QQQ.zip\n",
            "Resolving webfs.oecd.org (webfs.oecd.org)... 78.41.128.150\n",
            "Connecting to webfs.oecd.org (webfs.oecd.org)|78.41.128.150|:443... connected.\n",
            "HTTP request sent, awaiting response... 200 OK\n",
            "Length: 611425317 (583M) [application/x-zip-compressed]\n",
            "Saving to: ‘STDOUT’\n",
            "\n",
            "-                     0%[                    ]  55.76K  55.0KB/s               Copying from <STDIN>...\n",
            "-                   100%[===================>] 583.10M  2.72MB/s    in 7m 36s  \n",
            "\n",
            "2023-04-03 14:58:31 (1.28 MB/s) - written to stdout [611425317/611425317]\n",
            "\n",
            "/ [1 files][    0.0 B/    0.0 B]                                                \n",
            "Operation completed over 1 objects.                                              \n"
          ]
        }
      ]
    },
    {
      "cell_type": "code",
      "source": [
        "! ls /$WORK_DIR/data.zip"
      ],
      "metadata": {
        "colab": {
          "base_uri": "https://localhost:8080/"
        },
        "id": "zc6c5y2FaRYp",
        "outputId": "dc2338a8-a8d2-40ac-9c94-7dbfd10ea50b"
      },
      "execution_count": 4,
      "outputs": [
        {
          "output_type": "stream",
          "name": "stdout",
          "text": [
            "//content/dataset/data.zip\n"
          ]
        }
      ]
    },
    {
      "cell_type": "markdown",
      "metadata": {
        "id": "6LLAai_G_qkO"
      },
      "source": [
        "Voy a expandir los datos para poder revisar las columnas y el tamaño del dataset con el cuestionario -->"
      ]
    },
    {
      "cell_type": "code",
      "execution_count": 7,
      "metadata": {
        "colab": {
          "base_uri": "https://localhost:8080/"
        },
        "id": "1Dru6cnC_0F5",
        "outputId": "fcf4cb84-b3b1-4c06-99ce-bda1a515fe8d"
      },
      "outputs": [
        {
          "output_type": "stream",
          "name": "stdout",
          "text": [
            "Archive:  //content/dataset/data.zip\n",
            "   creating: STU/\n",
            "  inflating: STU/CY07MSU_FMT_STU_QQQ.CPT  \n",
            "  inflating: STU/CY07MSU_FMT_STU_QQQ.SAS7BCAT  \n",
            "  inflating: STU/CY07MSU_STU_QQQ.FORMAT.SAS  \n",
            "  inflating: STU/cy07_msu_stu_qqq.sas7bdat  \n",
            "  inflating: STU/Read Me.txt         \n"
          ]
        }
      ],
      "source": [
        "! unzip /$WORK_DIR/data.zip"
      ]
    },
    {
      "cell_type": "markdown",
      "source": [
        "Cambio el nombre del folder para guardar los datos como questionnaire -->"
      ],
      "metadata": {
        "id": "hdUQIyVcXX4D"
      }
    },
    {
      "cell_type": "code",
      "source": [
        "mv /$WORK_DIR/STU/ /$WORK_DIR/QUESTIONNAIRE/"
      ],
      "metadata": {
        "id": "CllVhiP_XUZc"
      },
      "execution_count": 8,
      "outputs": []
    },
    {
      "cell_type": "code",
      "source": [
        "%cd /$WORK_DIR/QUESTIONNAIRE/\n",
        "\n",
        "QUESTIONNAIRE_DIR = os.getcwd()"
      ],
      "metadata": {
        "colab": {
          "base_uri": "https://localhost:8080/"
        },
        "id": "z-e6uCHoZUuc",
        "outputId": "f33f561e-5650-4e85-df96-9e1b76b16df2"
      },
      "execution_count": 9,
      "outputs": [
        {
          "output_type": "stream",
          "name": "stdout",
          "text": [
            "/content/dataset/QUESTIONNAIRE\n"
          ]
        }
      ]
    },
    {
      "cell_type": "markdown",
      "metadata": {
        "id": "yzS8NLEnK50L"
      },
      "source": [
        "Reviso el Read Me del cuestionario -->"
      ]
    },
    {
      "cell_type": "code",
      "execution_count": 12,
      "metadata": {
        "colab": {
          "base_uri": "https://localhost:8080/"
        },
        "id": "jfZcFbp9K-gd",
        "outputId": "cbbf1672-dfa5-4457-a32b-26f33297502c"
      },
      "outputs": [
        {
          "output_type": "stream",
          "name": "stdout",
          "text": [
            "/*\r\n",
            "                Place transport file (.cpt) in the location with the related data files.\r\n",
            "                Delete 32-bit format file (.sas7bcat) provided. \r\n",
            "                Running code below on a machine running SAS (64-bit).\r\n",
            "                Do this for each format file.\r\n",
            "*/\r\n",
            "\r\n",
            "/* Location of transport (.cpt) file */\r\n",
            "%let location = C:\\User\\Location; \r\n",
            "\r\n",
            "/* Desired name of format file (.sas7bcat) */\r\n",
            "%let name = CY07_MS_FMT_STU_QQQ; \r\n",
            "\r\n",
            "/*******************************************/\r\n",
            "libname loc \"&location.\";  \r\n",
            "filename trans \"&location.\\&name..cpt\";  \r\n",
            "\r\n",
            "proc cimport infile=trans lib=loc;\r\n",
            "run;\r\n"
          ]
        }
      ],
      "source": [
        "!cat /$QUESTIONNAIRE_DIR/Read*"
      ]
    },
    {
      "cell_type": "code",
      "execution_count": 14,
      "metadata": {
        "colab": {
          "base_uri": "https://localhost:8080/"
        },
        "id": "Re76jzuKPd41",
        "outputId": "2de88b3a-4ca1-40b6-eb53-4d1672fd598d"
      },
      "outputs": [
        {
          "output_type": "stream",
          "name": "stdout",
          "text": [
            "//content/dataset/QUESTIONNAIRE/cy07_msu_stu_qqq.sas7bdat\n"
          ]
        }
      ],
      "source": [
        "! ls /$QUESTIONNAIRE_DIR/cy07_msu_stu_qqq.sas7bdat  "
      ]
    },
    {
      "cell_type": "markdown",
      "source": [
        "Instalo las librerías para leer ficheros tipo sas --> "
      ],
      "metadata": {
        "id": "0TTVlDINTc5L"
      }
    },
    {
      "cell_type": "code",
      "source": [
        "!pip install pyreadstat\n",
        "!pip install sas7bdat"
      ],
      "metadata": {
        "colab": {
          "base_uri": "https://localhost:8080/"
        },
        "id": "Z88lYNqYmQMl",
        "outputId": "075e37f0-b05e-4cd7-ad3c-f74f92c4ec8e"
      },
      "execution_count": 15,
      "outputs": [
        {
          "output_type": "stream",
          "name": "stdout",
          "text": [
            "Looking in indexes: https://pypi.org/simple, https://us-python.pkg.dev/colab-wheels/public/simple/\n",
            "Collecting pyreadstat\n",
            "  Downloading pyreadstat-1.2.1-cp39-cp39-manylinux_2_17_x86_64.manylinux2014_x86_64.whl (2.7 MB)\n",
            "\u001b[2K     \u001b[90m━━━━━━━━━━━━━━━━━━━━━━━━━━━━━━━━━━━━━━━━\u001b[0m \u001b[32m2.7/2.7 MB\u001b[0m \u001b[31m36.9 MB/s\u001b[0m eta \u001b[36m0:00:00\u001b[0m\n",
            "\u001b[?25hRequirement already satisfied: pandas>=1.2.0 in /usr/local/lib/python3.9/dist-packages (from pyreadstat) (1.4.4)\n",
            "Requirement already satisfied: python-dateutil>=2.8.1 in /usr/local/lib/python3.9/dist-packages (from pandas>=1.2.0->pyreadstat) (2.8.2)\n",
            "Requirement already satisfied: pytz>=2020.1 in /usr/local/lib/python3.9/dist-packages (from pandas>=1.2.0->pyreadstat) (2022.7.1)\n",
            "Requirement already satisfied: numpy>=1.18.5 in /usr/local/lib/python3.9/dist-packages (from pandas>=1.2.0->pyreadstat) (1.22.4)\n",
            "Requirement already satisfied: six>=1.5 in /usr/local/lib/python3.9/dist-packages (from python-dateutil>=2.8.1->pandas>=1.2.0->pyreadstat) (1.16.0)\n",
            "Installing collected packages: pyreadstat\n",
            "Successfully installed pyreadstat-1.2.1\n",
            "Looking in indexes: https://pypi.org/simple, https://us-python.pkg.dev/colab-wheels/public/simple/\n",
            "Collecting sas7bdat\n",
            "  Downloading sas7bdat-2.2.3.tar.gz (16 kB)\n",
            "  Preparing metadata (setup.py) ... \u001b[?25l\u001b[?25hdone\n",
            "Requirement already satisfied: six>=1.8.0 in /usr/local/lib/python3.9/dist-packages (from sas7bdat) (1.16.0)\n",
            "Building wheels for collected packages: sas7bdat\n",
            "  Building wheel for sas7bdat (setup.py) ... \u001b[?25l\u001b[?25hdone\n",
            "  Created wheel for sas7bdat: filename=sas7bdat-2.2.3-py3-none-any.whl size=16309 sha256=4030f7e96189f7bb63f8d8cd2c8ab21c719ee3747ea8be49440953a70e539381\n",
            "  Stored in directory: /root/.cache/pip/wheels/82/f9/33/931c5d927f24f5f5975e1a853d14a2d74f154fa514528b8adb\n",
            "Successfully built sas7bdat\n",
            "Installing collected packages: sas7bdat\n",
            "Successfully installed sas7bdat-2.2.3\n"
          ]
        }
      ]
    },
    {
      "cell_type": "markdown",
      "source": [
        "Voy a convertir los ficheros a CSV, pues es demasiada información para procesar todo el dataset en la memoria disponible. Así que una vez cambiado a CSV, puedo importar únicamente los valores para el país que he elegido (España) -->"
      ],
      "metadata": {
        "id": "QhZ1RZxLxy_e"
      }
    },
    {
      "cell_type": "code",
      "source": [
        "from sas7bdat import SAS7BDAT\n",
        "\n",
        "#cognitive_dataset = f\"{COGNITIVE_DIR}/cy07_msu_stu_cog.sas7bdat\"\n",
        "questionnaire_dataset = f\"{QUESTIONNAIRE_DIR}/cy07_msu_stu_qqq.sas7bdat\"\n",
        "\n",
        "#!sas7bdat_to_csv /content/dataset/COG/cy07_msu_stu_cog.sas7bdat /content/dataset/cognitive.csv\n",
        "!sas7bdat_to_csv /content/dataset/QUESTIONNAIRE/cy07_msu_stu_qqq.sas7bdat /content/dataset/questionnaire.csv"
      ],
      "metadata": {
        "colab": {
          "base_uri": "https://localhost:8080/"
        },
        "id": "WILZsotxlXJ3",
        "outputId": "e5fddcf9-474a-4b50-c042-c341b84cee34"
      },
      "execution_count": 16,
      "outputs": [
        {
          "output_type": "stream",
          "name": "stdout",
          "text": [
            "\u001b[32m[cy07_msu_stu_cog.sas7bdat] 16.5% complete\u001b[0m\n",
            "\u001b[32m[cy07_msu_stu_cog.sas7bdat] 33.0% complete\u001b[0m\n",
            "\u001b[32m[cy07_msu_stu_cog.sas7bdat] 49.5% complete\u001b[0m\n",
            "\u001b[32m[cy07_msu_stu_cog.sas7bdat] 65.9% complete\u001b[0m\n",
            "\u001b[32m[cy07_msu_stu_cog.sas7bdat] 82.4% complete\u001b[0m\n",
            "\u001b[32m[cy07_msu_stu_cog.sas7bdat] 98.9% complete\u001b[0m\n",
            "\u001b[32m[cy07_msu_stu_cog.sas7bdat] ⟶ [cognitive.csv] wrote 606627 of 606627 lines\u001b[0m\n",
            "\n",
            "Successfully converted 1 of 1 file\n",
            "\u001b[32m[cy07_msu_stu_qqq.sas7bdat] 16.3% complete\u001b[0m\n",
            "\u001b[32m[cy07_msu_stu_qqq.sas7bdat] 32.7% complete\u001b[0m\n",
            "\u001b[32m[cy07_msu_stu_qqq.sas7bdat] 49.0% complete\u001b[0m\n",
            "\u001b[32m[cy07_msu_stu_qqq.sas7bdat] 65.4% complete\u001b[0m\n",
            "\u001b[32m[cy07_msu_stu_qqq.sas7bdat] 81.7% complete\u001b[0m\n",
            "\u001b[32m[cy07_msu_stu_qqq.sas7bdat] 98.0% complete\u001b[0m\n",
            "\u001b[32m[cy07_msu_stu_qqq.sas7bdat] ⟶ [questionnaire.csv] wrote 612004 of 612004 lines\u001b[0m\n",
            "\n",
            "Successfully converted 1 of 1 file\n"
          ]
        }
      ]
    },
    {
      "cell_type": "markdown",
      "source": [
        "Filtro el fichero questionnaire.csv para generar un dataframe de España --> "
      ],
      "metadata": {
        "id": "KGvRxE2GynP4"
      }
    },
    {
      "cell_type": "code",
      "source": [
        "import pandas as pd\n",
        "\n",
        "questionnaire_csv = f\"{WORK_DIR}/questionnaire.csv\"\n",
        "chunksize = 10000\n",
        "\n",
        "# Iterate over each chunk and filter where CNT == 'ESP'\n",
        "df_filtered_chunks = []\n",
        "for chunk in pd.read_csv(questionnaire_csv, chunksize=chunksize):\n",
        "    filtered_chunk = chunk[chunk['CNT'] == 'ESP']\n",
        "    df_filtered_chunks.append(filtered_chunk)\n",
        "\n",
        "# Concatenate all the filtered chunks into a single dataframe\n",
        "df_questionnaire = pd.concat(df_filtered_chunks)"
      ],
      "metadata": {
        "id": "fKAuAT86yu5w"
      },
      "execution_count": 3,
      "outputs": []
    },
    {
      "cell_type": "markdown",
      "source": [
        "Guardo df_questionnaire.csv"
      ],
      "metadata": {
        "id": "WZxKZU6KyiWY"
      }
    },
    {
      "cell_type": "code",
      "source": [
        "df_questionnaire.to_csv(f\"{WORK_DIR}/df_questionnaire.csv\")"
      ],
      "metadata": {
        "id": "VVxdLhRQym65"
      },
      "execution_count": 4,
      "outputs": []
    },
    {
      "cell_type": "markdown",
      "source": [
        "Ahora, vamos a analizar el dataframe df_questionnaire -->"
      ],
      "metadata": {
        "id": "wFZ9TTm932W6"
      }
    },
    {
      "cell_type": "code",
      "source": [
        "print(\"Shape de df_questionnaire:\", df_questionnaire.shape)\n"
      ],
      "metadata": {
        "colab": {
          "base_uri": "https://localhost:8080/"
        },
        "id": "PWsblj7f3_MF",
        "outputId": "612c0e0a-5f91-472f-ca9f-c5876797e023"
      },
      "execution_count": 5,
      "outputs": [
        {
          "output_type": "stream",
          "name": "stdout",
          "text": [
            "Shape de df_questionnaire: (35943, 1119)\n"
          ]
        }
      ]
    },
    {
      "cell_type": "markdown",
      "source": [
        "¿Cuántos NAN tengo por cada columna del Dataframe? -->"
      ],
      "metadata": {
        "id": "3tRcmM1y5Vgz"
      }
    },
    {
      "cell_type": "code",
      "source": [
        "nan_count = df_questionnaire.isna().sum()\n",
        "nan_percentage = (nan_count / len(df_questionnaire)) * 100\n",
        "\n",
        "nan_df = pd.DataFrame({'NaN totales': nan_count, 'NaN %': nan_percentage})\n",
        "print(nan_df)\n"
      ],
      "metadata": {
        "colab": {
          "base_uri": "https://localhost:8080/"
        },
        "id": "15Z5vKde4EDp",
        "outputId": "f93a85fb-7783-4690-ee4a-fcfed3de7893"
      },
      "execution_count": 7,
      "outputs": [
        {
          "output_type": "stream",
          "name": "stdout",
          "text": [
            "          NaN totales  NaN %\n",
            "CNTRYID             0    0.0\n",
            "CNT                 0    0.0\n",
            "CNTSCHID            0    0.0\n",
            "CNTSTUID            0    0.0\n",
            "CYC                 0    0.0\n",
            "...               ...    ...\n",
            "PV9RTML             0    0.0\n",
            "PV10RTML            0    0.0\n",
            "SENWT               0    0.0\n",
            "VER_DAT             0    0.0\n",
            "i                   0    0.0\n",
            "\n",
            "[1119 rows x 2 columns]\n"
          ]
        }
      ]
    },
    {
      "cell_type": "markdown",
      "source": [
        "Busquemos columnas redundantes. Vamos a iterar entre las columnas del dataframe si solo tiene un valor único. Si es así, se agregará a redundant_columns. -->"
      ],
      "metadata": {
        "id": "lQrwUWLj9dWN"
      }
    },
    {
      "cell_type": "code",
      "source": [
        "redundant_columns = []\n",
        "list_columns = df_questionnaire.columns.values\n",
        "\n",
        "for column in list_columns:\n",
        "    unique_values = df_questionnaire[column].nunique()\n",
        "    if unique_values == 1:\n",
        "        redundant_columns.append(column)\n",
        "\n",
        "print(\"Columnas redundantes:\", redundant_columns)\n"
      ],
      "metadata": {
        "colab": {
          "base_uri": "https://localhost:8080/"
        },
        "id": "Lt533SAR-J-H",
        "outputId": "d749d79f-c2c7-46e7-df09-39b267b9ae28"
      },
      "execution_count": 9,
      "outputs": [
        {
          "output_type": "stream",
          "name": "stdout",
          "text": [
            "Columnas redundantes: ['CNTRYID', 'CNT', 'CYC', 'NatCen', 'SUBNATIO', 'OECD', 'ADMINMODE', 'ST003D03T', 'i']\n"
          ]
        }
      ]
    },
    {
      "cell_type": "markdown",
      "source": [
        "¿Cuántos valores únicos tengo por columna? "
      ],
      "metadata": {
        "id": "lMSR3sGiB7RX"
      }
    },
    {
      "cell_type": "code",
      "source": [
        "# Filter columns based on number of unique values\n",
        "unique_values_per_column = df_questionnaire.loc[:, df_questionnaire.nunique() > 1000].columns\n",
        "\n",
        "print(\"Número de valores únicos superiores 1000 por columna:\")\n",
        "print(unique_values_per_column)\n"
      ],
      "metadata": {
        "colab": {
          "base_uri": "https://localhost:8080/"
        },
        "id": "AhlxCVrqB1tG",
        "outputId": "4e24a26a-15ba-49a7-99d5-9025ad1ddb38"
      },
      "execution_count": 14,
      "outputs": [
        {
          "output_type": "stream",
          "name": "stdout",
          "text": [
            "Número de valores únicos superiores 1000 por columna:\n",
            "Index(['CNTSCHID', 'CNTSTUID', 'STUBMI', 'ESCS', 'HOMEPOS', 'WEALTH',\n",
            "       'DISCLIMA', 'JOYREAD', 'RESILIENCE', 'GCSELFEFF',\n",
            "       ...\n",
            "       'PV2RTML', 'PV3RTML', 'PV4RTML', 'PV5RTML', 'PV6RTML', 'PV7RTML',\n",
            "       'PV8RTML', 'PV9RTML', 'PV10RTML', 'SENWT'],\n",
            "      dtype='object', length=200)\n"
          ]
        }
      ]
    },
    {
      "cell_type": "markdown",
      "source": [
        "Voy a generar la lista de columnas -->"
      ],
      "metadata": {
        "id": "zNjlxI1B-UVz"
      }
    },
    {
      "cell_type": "code",
      "source": [
        "lista_columnas = df_questionnaire.columns.values"
      ],
      "metadata": {
        "id": "tJL5Ocq76-KN"
      },
      "execution_count": 16,
      "outputs": []
    },
    {
      "cell_type": "markdown",
      "source": [
        "Voy a guardar la información en un Bucket para guardar este dataset y poder trabajarlo desde este punto -->"
      ],
      "metadata": {
        "id": "eObciO2a7ZxC"
      }
    },
    {
      "cell_type": "code",
      "source": [
        "! gcloud config unset project"
      ],
      "metadata": {
        "colab": {
          "base_uri": "https://localhost:8080/"
        },
        "id": "DlhN4U87E31w",
        "outputId": "9551a1b3-65d6-425b-ba73-d12b4f6055ab"
      },
      "execution_count": 26,
      "outputs": [
        {
          "output_type": "stream",
          "name": "stdout",
          "text": [
            "Unset property [core/project].\n"
          ]
        }
      ]
    },
    {
      "cell_type": "code",
      "source": [
        "PROJECT_ID = \"second-casing-363316\" #@param {type:\"string\"}\n",
        "! gcloud config set project $PROJECT_ID"
      ],
      "metadata": {
        "colab": {
          "base_uri": "https://localhost:8080/"
        },
        "id": "lac-DSGN7oER",
        "outputId": "eb376698-7f1f-4948-f097-7cd107d784cf"
      },
      "execution_count": 32,
      "outputs": [
        {
          "output_type": "stream",
          "name": "stdout",
          "text": [
            "Updated property [core/project].\n"
          ]
        }
      ]
    },
    {
      "cell_type": "code",
      "source": [
        "import sys\n",
        "\n",
        "# If you are running this notebook in Colab, run this cell and follow the\n",
        "# instructions to authenticate your GCP account. This provides access to your\n",
        "# Cloud Storage bucket and lets you submit training jobs and prediction\n",
        "# requests.\n",
        "\n",
        "if 'google.colab' in sys.modules:\n",
        "  from google.colab import auth as google_auth\n",
        "  google_auth.authenticate_user()\n",
        "\n",
        "# If you are running this notebook locally, replace the string below with the\n",
        "# path to your service account key and run this cell to authenticate your GCP\n",
        "# account.\n",
        "else:\n",
        "  %env GOOGLE_APPLICATION_CREDENTIALS ''"
      ],
      "metadata": {
        "id": "g-6LUG7r7-C7"
      },
      "execution_count": 34,
      "outputs": []
    },
    {
      "cell_type": "code",
      "source": [
        "BUCKET_NAME = \"bucket-bdcoders\" #@param {type:\"string\"}\n",
        "REGION = \"europe-west1\" #@param {type:\"string\"}"
      ],
      "metadata": {
        "id": "eCY-SPLv8AeJ"
      },
      "execution_count": 38,
      "outputs": []
    },
    {
      "cell_type": "code",
      "source": [
        "!gcloud auth login"
      ],
      "metadata": {
        "colab": {
          "base_uri": "https://localhost:8080/"
        },
        "id": "fVQmxPuG8WFN",
        "outputId": "61af9a38-7bcd-4312-8319-fd50f96aa22c"
      },
      "execution_count": 46,
      "outputs": [
        {
          "output_type": "stream",
          "name": "stdout",
          "text": [
            "\n",
            "You are running on a Google Compute Engine virtual machine.\n",
            "It is recommended that you use service accounts for authentication.\n",
            "\n",
            "You can run:\n",
            "\n",
            "  $ gcloud config set account `ACCOUNT`\n",
            "\n",
            "to switch accounts if necessary.\n",
            "\n",
            "Your credentials may be visible to others with access to this\n",
            "virtual machine. Are you sure you want to authenticate with\n",
            "your personal account?\n",
            "\n",
            "Do you want to continue (Y/n)?  Y\n",
            "\n",
            "Go to the following link in your browser:\n",
            "\n",
            "    https://accounts.google.com/o/oauth2/auth?response_type=code&client_id=32555940559.apps.googleusercontent.com&redirect_uri=https%3A%2F%2Fsdk.cloud.google.com%2Fauthcode.html&scope=openid+https%3A%2F%2Fwww.googleapis.com%2Fauth%2Fuserinfo.email+https%3A%2F%2Fwww.googleapis.com%2Fauth%2Fcloud-platform+https%3A%2F%2Fwww.googleapis.com%2Fauth%2Fappengine.admin+https%3A%2F%2Fwww.googleapis.com%2Fauth%2Fsqlservice.login+https%3A%2F%2Fwww.googleapis.com%2Fauth%2Fcompute+https%3A%2F%2Fwww.googleapis.com%2Fauth%2Faccounts.reauth&state=56Z4Au9Ix7XNxKjI7LXT0L6rr5dJDM&prompt=consent&access_type=offline&code_challenge=-5TOOOUrrx9LeTq_ujLG8MLoJnx6uxFU4SD7OWG5Nro&code_challenge_method=S256\n",
            "\n",
            "Enter authorization code: 4/0AVHEtk4i_jmyZznZDa55bI4aplqjFPStM6HQC5rkFFI3cmwY82Audp2SUiEMkfiq4ugL5w\n",
            "\n",
            "You are now logged in as [sensei.fullstack@gmail.com].\n",
            "Your current project is [second-casing-363316].  You can change this setting by running:\n",
            "  $ gcloud config set project PROJECT_ID\n"
          ]
        }
      ]
    },
    {
      "cell_type": "code",
      "source": [
        "! gsutil ls -al gs://$BUCKET_NAME"
      ],
      "metadata": {
        "id": "ZM110APG8aUt"
      },
      "execution_count": 39,
      "outputs": []
    },
    {
      "cell_type": "code",
      "source": [
        "! gsutil cp $WORK_DIR/questionnaire.csv gs://$BUCKET_NAME/questionnaire.csv\n"
      ],
      "metadata": {
        "colab": {
          "base_uri": "https://localhost:8080/"
        },
        "id": "PyBQdzDY8m0r",
        "outputId": "6e4914da-ff92-4cfd-be3b-312ed358c693"
      },
      "execution_count": 41,
      "outputs": [
        {
          "output_type": "stream",
          "name": "stdout",
          "text": [
            "Copying file:///content/dataset/questionnaire.csv [Content-Type=text/csv]...\n",
            "/ [0 files][    0.0 B/  2.3 GiB]                                                \r==> NOTE: You are uploading one or more large file(s), which would run\n",
            "significantly faster if you enable parallel composite uploads. This\n",
            "feature can be enabled by editing the\n",
            "\"parallel_composite_upload_threshold\" value in your .boto\n",
            "configuration file. However, note that if you do this large files will\n",
            "be uploaded as `composite objects\n",
            "<https://cloud.google.com/storage/docs/composite-objects>`_,which\n",
            "means that any user who downloads such objects will need to have a\n",
            "compiled crcmod installed (see \"gsutil help crcmod\"). This is because\n",
            "without a compiled crcmod, computing checksums on composite objects is\n",
            "so slow that gsutil disables downloads of composite objects.\n",
            "\n",
            "|\n",
            "Operation completed over 1 objects/2.3 GiB.                                      \n"
          ]
        }
      ]
    },
    {
      "cell_type": "code",
      "source": [
        "! gsutil cp $WORK_DIR/questionnaire.csv gs://$BUCKET_NAME/df_questionnaire.csv"
      ],
      "metadata": {
        "colab": {
          "base_uri": "https://localhost:8080/"
        },
        "id": "nTQ8pXRdJM_v",
        "outputId": "0cc0863a-37e1-4127-fdcf-935fc6f6dd43"
      },
      "execution_count": 42,
      "outputs": [
        {
          "output_type": "stream",
          "name": "stdout",
          "text": [
            "Copying file:///content/dataset/questionnaire.csv [Content-Type=text/csv]...\n",
            "/ [0 files][    0.0 B/  2.3 GiB]                                                \r==> NOTE: You are uploading one or more large file(s), which would run\n",
            "significantly faster if you enable parallel composite uploads. This\n",
            "feature can be enabled by editing the\n",
            "\"parallel_composite_upload_threshold\" value in your .boto\n",
            "configuration file. However, note that if you do this large files will\n",
            "be uploaded as `composite objects\n",
            "<https://cloud.google.com/storage/docs/composite-objects>`_,which\n",
            "means that any user who downloads such objects will need to have a\n",
            "compiled crcmod installed (see \"gsutil help crcmod\"). This is because\n",
            "without a compiled crcmod, computing checksums on composite objects is\n",
            "so slow that gsutil disables downloads of composite objects.\n",
            "\n",
            "\\ [1 files][  2.3 GiB/  2.3 GiB]   24.7 MiB/s                                   \n",
            "Operation completed over 1 objects/2.3 GiB.                                      \n"
          ]
        }
      ]
    },
    {
      "cell_type": "code",
      "source": [
        "! gsutil ls gs://$BUCKET_NAME/"
      ],
      "metadata": {
        "colab": {
          "base_uri": "https://localhost:8080/"
        },
        "id": "ztwFqB-Y9bNw",
        "outputId": "c44106da-159d-4afa-a327-56ddd8406702"
      },
      "execution_count": 43,
      "outputs": [
        {
          "output_type": "stream",
          "name": "stdout",
          "text": [
            "gs://bucket-bdcoders/df_questionnaire.csv\n",
            "gs://bucket-bdcoders/questionnaire.csv\n"
          ]
        }
      ]
    },
    {
      "cell_type": "markdown",
      "source": [
        "----------------------------------------------------------------------------------------------------------------------------------------------------------------------------------------------------------------------------"
      ],
      "metadata": {
        "id": "pvHi3CHzJ1jm"
      }
    },
    {
      "cell_type": "markdown",
      "source": [],
      "metadata": {
        "id": "w6mhNzsRJ9uo"
      }
    },
    {
      "cell_type": "markdown",
      "source": [
        "Vuelvo a definir WORK_DIR --> "
      ],
      "metadata": {
        "id": "p6tp8pISKVmr"
      }
    },
    {
      "cell_type": "code",
      "source": [
        "import os\n",
        "\n",
        "# Defino el directorio en el que voy a trabajar\n",
        "%mkdir /content/dataset\n",
        "%cd /content/dataset/\n",
        "\n",
        "WORK_DIR = os.getcwd()"
      ],
      "metadata": {
        "colab": {
          "base_uri": "https://localhost:8080/"
        },
        "id": "9NM8uydTKe4g",
        "outputId": "65fd3a62-e63e-453b-d1f4-772de4975e7a"
      },
      "execution_count": 44,
      "outputs": [
        {
          "output_type": "stream",
          "name": "stdout",
          "text": [
            "mkdir: cannot create directory ‘/content/dataset’: File exists\n",
            "/content/dataset\n"
          ]
        }
      ]
    },
    {
      "cell_type": "markdown",
      "source": [
        "Bajo la df_questionnaire.csv del Bucket --> \n"
      ],
      "metadata": {
        "id": "xwlmu50hKfLb"
      }
    },
    {
      "cell_type": "code",
      "source": [
        "! wget https://storage.cloud.google.com/bucket-bdcoders/df_questionnaire.csv -O - | gsutil cp - //$WORK_DIR/df_questionnaire.csv"
      ],
      "metadata": {
        "colab": {
          "base_uri": "https://localhost:8080/"
        },
        "id": "T28lvva4KnsK",
        "outputId": "874038c6-a3fa-4f5c-e39d-323397c720f0"
      },
      "execution_count": 51,
      "outputs": [
        {
          "output_type": "stream",
          "name": "stdout",
          "text": [
            "--2023-04-03 22:19:25--  https://storage.cloud.google.com/bucket-bdcoders/df_questionnaire.csv\n",
            "Resolving storage.cloud.google.com (storage.cloud.google.com)... 74.125.142.138, 74.125.142.100, 74.125.142.139, ...\n",
            "Connecting to storage.cloud.google.com (storage.cloud.google.com)|74.125.142.138|:443... connected.\n",
            "HTTP request sent, awaiting response... 302 Found\n",
            "Location: https://accounts.google.com/ServiceLogin?service=cds&passive=1209600&continue=https://storage.cloud.google.com/bucket-bdcoders/df_questionnaire.csv&followup=https://storage.cloud.google.com/bucket-bdcoders/df_questionnaire.csv [following]\n",
            "--2023-04-03 22:19:25--  https://accounts.google.com/ServiceLogin?service=cds&passive=1209600&continue=https://storage.cloud.google.com/bucket-bdcoders/df_questionnaire.csv&followup=https://storage.cloud.google.com/bucket-bdcoders/df_questionnaire.csv\n",
            "Resolving accounts.google.com (accounts.google.com)... 74.125.195.84, 2607:f8b0:400e:c01::54\n",
            "Connecting to accounts.google.com (accounts.google.com)|74.125.195.84|:443... connected.\n",
            "HTTP request sent, awaiting response... 302 Moved Temporarily\n",
            "Location: https://accounts.google.com/InteractiveLogin?continue=https://storage.cloud.google.com/bucket-bdcoders/df_questionnaire.csv&followup=https://storage.cloud.google.com/bucket-bdcoders/df_questionnaire.csv&passive=1209600&service=cds&ifkv=AQMjQ7S9HHQomaI0dBrb6_sR71NqrDA4683yc9behzIrfc7A7LKpCMocpWD4I4efs8h5sI28RwESHQ [following]\n",
            "--2023-04-03 22:19:25--  https://accounts.google.com/InteractiveLogin?continue=https://storage.cloud.google.com/bucket-bdcoders/df_questionnaire.csv&followup=https://storage.cloud.google.com/bucket-bdcoders/df_questionnaire.csv&passive=1209600&service=cds&ifkv=AQMjQ7S9HHQomaI0dBrb6_sR71NqrDA4683yc9behzIrfc7A7LKpCMocpWD4I4efs8h5sI28RwESHQ\n",
            "Reusing existing connection to accounts.google.com:443.\n",
            "HTTP request sent, awaiting response... 302 Moved Temporarily\n",
            "Location: https://accounts.google.com/v3/signin/identifier?dsh=S-603850210%3A1680560365955422&continue=https%3A%2F%2Fstorage.cloud.google.com%2Fbucket-bdcoders%2Fdf_questionnaire.csv&followup=https%3A%2F%2Fstorage.cloud.google.com%2Fbucket-bdcoders%2Fdf_questionnaire.csv&ifkv=AQMjQ7SCKoAegIJEP72AL5PZd-wh3AsHDcVzKJv4Y6V4YOIF7N8n6UNZSh3VTsxCoyrALHZSqrHDZg&passive=1209600&service=cds&flowName=WebLiteSignIn&flowEntry=ServiceLogin [following]\n",
            "--2023-04-03 22:19:25--  https://accounts.google.com/v3/signin/identifier?dsh=S-603850210%3A1680560365955422&continue=https%3A%2F%2Fstorage.cloud.google.com%2Fbucket-bdcoders%2Fdf_questionnaire.csv&followup=https%3A%2F%2Fstorage.cloud.google.com%2Fbucket-bdcoders%2Fdf_questionnaire.csv&ifkv=AQMjQ7SCKoAegIJEP72AL5PZd-wh3AsHDcVzKJv4Y6V4YOIF7N8n6UNZSh3VTsxCoyrALHZSqrHDZg&passive=1209600&service=cds&flowName=WebLiteSignIn&flowEntry=ServiceLogin\n",
            "Reusing existing connection to accounts.google.com:443.\n",
            "HTTP request sent, awaiting response... 200 OK\n",
            "Length: unspecified [text/html]\n",
            "Saving to: ‘STDOUT’\n",
            "\n",
            "-                       [<=>                 ]       0  --.-KB/s               Copying from <STDIN>...\n",
            "-                       [  <=>               ] 150.10K   109KB/s    in 1.4s    \n",
            "\n",
            "2023-04-03 22:19:27 (109 KB/s) - written to stdout [153701]\n",
            "\n",
            "/ [1 files][    0.0 B/    0.0 B]                                                \n",
            "Operation completed over 1 objects.                                              \n"
          ]
        }
      ]
    }
  ],
  "metadata": {
    "colab": {
      "provenance": [],
      "include_colab_link": true
    },
    "kernelspec": {
      "display_name": "Python 3",
      "name": "python3"
    },
    "language_info": {
      "name": "python"
    }
  },
  "nbformat": 4,
  "nbformat_minor": 0
}